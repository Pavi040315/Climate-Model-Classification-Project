{
  "cells": [
    {
      "cell_type": "markdown",
      "source": [
        "# CPC251 - Project Part1"
      ],
      "metadata": {
        "id": "fbOUJG9N1mfc"
      }
    },
    {
      "cell_type": "markdown",
      "metadata": {
        "id": "LZUo7qEJBBex"
      },
      "source": [
        "#### Group Information\n",
        "\n",
        "Group No: Climate4\n",
        "\n",
        "- Member 1: Shivabala A/L Ganeish\n",
        "- Member 2: Pavithran A/L Muthiah\n",
        "- Member 3: Kishern A/L Prabagaran\n",
        "- Member 4: Mohamad Azraei bin Johan\n"
      ]
    },
    {
      "cell_type": "markdown",
      "metadata": {
        "id": "DfLcDKqPBBey"
      },
      "source": [
        "#### Import libraries"
      ]
    },
    {
      "cell_type": "code",
      "execution_count": null,
      "metadata": {
        "id": "iL3XPKD1BBez"
      },
      "outputs": [],
      "source": [
        "%config Completer.use_jedi=False # comment if not needed\n",
        "import pandas as pd\n",
        "import numpy as np\n",
        "import matplotlib.pyplot as plt\n",
        "import seaborn as sns\n",
        "from sklearn.model_selection import train_test_split\n",
        "from sklearn.preprocessing import StandardScaler\n",
        "from sklearn.ensemble import ExtraTreesClassifier\n",
        "from sklearn.ensemble import ExtraTreesRegressor\n",
        "from sklearn.tree import DecisionTreeClassifier\n",
        "from sklearn.model_selection import GridSearchCV\n",
        "from sklearn.metrics import (\n",
        "    accuracy_score, precision_score, recall_score, f1_score,\n",
        "    confusion_matrix, classification_report\n",
        ")\n",
        "from matplotlib import pyplot as plt\n",
        "from sklearn.metrics import ConfusionMatrixDisplay"
      ]
    },
    {
      "cell_type": "markdown",
      "metadata": {
        "id": "Huw_9BBIBBe0"
      },
      "source": [
        "#### Load the dataset"
      ]
    },
    {
      "cell_type": "code",
      "execution_count": null,
      "metadata": {
        "colab": {
          "base_uri": "https://localhost:8080/",
          "height": 73
        },
        "id": "IV6hNSNeBBe0",
        "outputId": "e0952242-e8ed-4e48-9bf4-1cc77afb3c9f"
      },
      "outputs": [
        {
          "output_type": "display_data",
          "data": {
            "text/plain": [
              "<IPython.core.display.HTML object>"
            ],
            "text/html": [
              "\n",
              "     <input type=\"file\" id=\"files-0c3e1a32-f632-461e-b608-22f804a639b4\" name=\"files[]\" multiple disabled\n",
              "        style=\"border:none\" />\n",
              "     <output id=\"result-0c3e1a32-f632-461e-b608-22f804a639b4\">\n",
              "      Upload widget is only available when the cell has been executed in the\n",
              "      current browser session. Please rerun this cell to enable.\n",
              "      </output>\n",
              "      <script>// Copyright 2017 Google LLC\n",
              "//\n",
              "// Licensed under the Apache License, Version 2.0 (the \"License\");\n",
              "// you may not use this file except in compliance with the License.\n",
              "// You may obtain a copy of the License at\n",
              "//\n",
              "//      http://www.apache.org/licenses/LICENSE-2.0\n",
              "//\n",
              "// Unless required by applicable law or agreed to in writing, software\n",
              "// distributed under the License is distributed on an \"AS IS\" BASIS,\n",
              "// WITHOUT WARRANTIES OR CONDITIONS OF ANY KIND, either express or implied.\n",
              "// See the License for the specific language governing permissions and\n",
              "// limitations under the License.\n",
              "\n",
              "/**\n",
              " * @fileoverview Helpers for google.colab Python module.\n",
              " */\n",
              "(function(scope) {\n",
              "function span(text, styleAttributes = {}) {\n",
              "  const element = document.createElement('span');\n",
              "  element.textContent = text;\n",
              "  for (const key of Object.keys(styleAttributes)) {\n",
              "    element.style[key] = styleAttributes[key];\n",
              "  }\n",
              "  return element;\n",
              "}\n",
              "\n",
              "// Max number of bytes which will be uploaded at a time.\n",
              "const MAX_PAYLOAD_SIZE = 100 * 1024;\n",
              "\n",
              "function _uploadFiles(inputId, outputId) {\n",
              "  const steps = uploadFilesStep(inputId, outputId);\n",
              "  const outputElement = document.getElementById(outputId);\n",
              "  // Cache steps on the outputElement to make it available for the next call\n",
              "  // to uploadFilesContinue from Python.\n",
              "  outputElement.steps = steps;\n",
              "\n",
              "  return _uploadFilesContinue(outputId);\n",
              "}\n",
              "\n",
              "// This is roughly an async generator (not supported in the browser yet),\n",
              "// where there are multiple asynchronous steps and the Python side is going\n",
              "// to poll for completion of each step.\n",
              "// This uses a Promise to block the python side on completion of each step,\n",
              "// then passes the result of the previous step as the input to the next step.\n",
              "function _uploadFilesContinue(outputId) {\n",
              "  const outputElement = document.getElementById(outputId);\n",
              "  const steps = outputElement.steps;\n",
              "\n",
              "  const next = steps.next(outputElement.lastPromiseValue);\n",
              "  return Promise.resolve(next.value.promise).then((value) => {\n",
              "    // Cache the last promise value to make it available to the next\n",
              "    // step of the generator.\n",
              "    outputElement.lastPromiseValue = value;\n",
              "    return next.value.response;\n",
              "  });\n",
              "}\n",
              "\n",
              "/**\n",
              " * Generator function which is called between each async step of the upload\n",
              " * process.\n",
              " * @param {string} inputId Element ID of the input file picker element.\n",
              " * @param {string} outputId Element ID of the output display.\n",
              " * @return {!Iterable<!Object>} Iterable of next steps.\n",
              " */\n",
              "function* uploadFilesStep(inputId, outputId) {\n",
              "  const inputElement = document.getElementById(inputId);\n",
              "  inputElement.disabled = false;\n",
              "\n",
              "  const outputElement = document.getElementById(outputId);\n",
              "  outputElement.innerHTML = '';\n",
              "\n",
              "  const pickedPromise = new Promise((resolve) => {\n",
              "    inputElement.addEventListener('change', (e) => {\n",
              "      resolve(e.target.files);\n",
              "    });\n",
              "  });\n",
              "\n",
              "  const cancel = document.createElement('button');\n",
              "  inputElement.parentElement.appendChild(cancel);\n",
              "  cancel.textContent = 'Cancel upload';\n",
              "  const cancelPromise = new Promise((resolve) => {\n",
              "    cancel.onclick = () => {\n",
              "      resolve(null);\n",
              "    };\n",
              "  });\n",
              "\n",
              "  // Wait for the user to pick the files.\n",
              "  const files = yield {\n",
              "    promise: Promise.race([pickedPromise, cancelPromise]),\n",
              "    response: {\n",
              "      action: 'starting',\n",
              "    }\n",
              "  };\n",
              "\n",
              "  cancel.remove();\n",
              "\n",
              "  // Disable the input element since further picks are not allowed.\n",
              "  inputElement.disabled = true;\n",
              "\n",
              "  if (!files) {\n",
              "    return {\n",
              "      response: {\n",
              "        action: 'complete',\n",
              "      }\n",
              "    };\n",
              "  }\n",
              "\n",
              "  for (const file of files) {\n",
              "    const li = document.createElement('li');\n",
              "    li.append(span(file.name, {fontWeight: 'bold'}));\n",
              "    li.append(span(\n",
              "        `(${file.type || 'n/a'}) - ${file.size} bytes, ` +\n",
              "        `last modified: ${\n",
              "            file.lastModifiedDate ? file.lastModifiedDate.toLocaleDateString() :\n",
              "                                    'n/a'} - `));\n",
              "    const percent = span('0% done');\n",
              "    li.appendChild(percent);\n",
              "\n",
              "    outputElement.appendChild(li);\n",
              "\n",
              "    const fileDataPromise = new Promise((resolve) => {\n",
              "      const reader = new FileReader();\n",
              "      reader.onload = (e) => {\n",
              "        resolve(e.target.result);\n",
              "      };\n",
              "      reader.readAsArrayBuffer(file);\n",
              "    });\n",
              "    // Wait for the data to be ready.\n",
              "    let fileData = yield {\n",
              "      promise: fileDataPromise,\n",
              "      response: {\n",
              "        action: 'continue',\n",
              "      }\n",
              "    };\n",
              "\n",
              "    // Use a chunked sending to avoid message size limits. See b/62115660.\n",
              "    let position = 0;\n",
              "    do {\n",
              "      const length = Math.min(fileData.byteLength - position, MAX_PAYLOAD_SIZE);\n",
              "      const chunk = new Uint8Array(fileData, position, length);\n",
              "      position += length;\n",
              "\n",
              "      const base64 = btoa(String.fromCharCode.apply(null, chunk));\n",
              "      yield {\n",
              "        response: {\n",
              "          action: 'append',\n",
              "          file: file.name,\n",
              "          data: base64,\n",
              "        },\n",
              "      };\n",
              "\n",
              "      let percentDone = fileData.byteLength === 0 ?\n",
              "          100 :\n",
              "          Math.round((position / fileData.byteLength) * 100);\n",
              "      percent.textContent = `${percentDone}% done`;\n",
              "\n",
              "    } while (position < fileData.byteLength);\n",
              "  }\n",
              "\n",
              "  // All done.\n",
              "  yield {\n",
              "    response: {\n",
              "      action: 'complete',\n",
              "    }\n",
              "  };\n",
              "}\n",
              "\n",
              "scope.google = scope.google || {};\n",
              "scope.google.colab = scope.google.colab || {};\n",
              "scope.google.colab._files = {\n",
              "  _uploadFiles,\n",
              "  _uploadFilesContinue,\n",
              "};\n",
              "})(self);\n",
              "</script> "
            ]
          },
          "metadata": {}
        },
        {
          "output_type": "stream",
          "name": "stdout",
          "text": [
            "Saving climate.csv to climate.csv\n"
          ]
        }
      ],
      "source": [
        "from google.colab import files\n",
        "uploaded = files.upload()"
      ]
    },
    {
      "cell_type": "code",
      "source": [
        "df = pd.read_csv('climate.csv')\n",
        "df.head()"
      ],
      "metadata": {
        "colab": {
          "base_uri": "https://localhost:8080/",
          "height": 256
        },
        "id": "OnaA6Qi6CLbf",
        "outputId": "50cf78bd-da31-4123-d931-a3fd00df2cb3"
      },
      "execution_count": null,
      "outputs": [
        {
          "output_type": "execute_result",
          "data": {
            "text/plain": [
              "   Study  Run  vconst_corr  vconst_2  vconst_3  vconst_4  vconst_5  vconst_7  \\\n",
              "0      1    1     0.859036  0.927825  0.252866  0.298838  0.170521  0.735936   \n",
              "1      1    2     0.606041  0.457728  0.359448  0.306957  0.843331  0.934851   \n",
              "2      1    3     0.997600  0.373238  0.517399  0.504993  0.618903  0.605571   \n",
              "3      1    4     0.783408  0.104055  0.197533  0.421837  0.742056  0.490828   \n",
              "4      1    5     0.406250  0.513199  0.061812  0.635837  0.844798  0.441502   \n",
              "\n",
              "    ah_corr  ah_bolus  ...  efficiency_factor  tidal_mix_max  \\\n",
              "0  0.428325  0.567947  ...           0.245675       0.104226   \n",
              "1  0.444572  0.828015  ...           0.616870       0.975786   \n",
              "2  0.746225  0.195928  ...           0.679355       0.803413   \n",
              "3  0.005525  0.392123  ...           0.471463       0.597879   \n",
              "4  0.191926  0.487546  ...           0.551543       0.743877   \n",
              "\n",
              "   vertical_decay_scale  convect_corr  bckgrnd_vdc1  bckgrnd_vdc_ban  \\\n",
              "0              0.869091      0.997518      0.448620         0.307522   \n",
              "1              0.914344      0.845247      0.864152         0.346713   \n",
              "2              0.643995      0.718441      0.924775         0.315371   \n",
              "3              0.761659      0.362751      0.912819         0.977971   \n",
              "4              0.312349      0.650223      0.522261         0.043545   \n",
              "\n",
              "   bckgrnd_vdc_eq  bckgrnd_vdc_psim   Prandtl  outcome  \n",
              "0        0.858310          0.796997  0.869893        0  \n",
              "1        0.356573          0.438447  0.512256        1  \n",
              "2        0.250642          0.285636  0.365858        1  \n",
              "3        0.845921          0.699431  0.475987        1  \n",
              "4        0.376660          0.280098  0.132283        1  \n",
              "\n",
              "[5 rows x 21 columns]"
            ],
            "text/html": [
              "\n",
              "  <div id=\"df-e2e3908f-9db8-4879-b47d-97c3f00528fa\" class=\"colab-df-container\">\n",
              "    <div>\n",
              "<style scoped>\n",
              "    .dataframe tbody tr th:only-of-type {\n",
              "        vertical-align: middle;\n",
              "    }\n",
              "\n",
              "    .dataframe tbody tr th {\n",
              "        vertical-align: top;\n",
              "    }\n",
              "\n",
              "    .dataframe thead th {\n",
              "        text-align: right;\n",
              "    }\n",
              "</style>\n",
              "<table border=\"1\" class=\"dataframe\">\n",
              "  <thead>\n",
              "    <tr style=\"text-align: right;\">\n",
              "      <th></th>\n",
              "      <th>Study</th>\n",
              "      <th>Run</th>\n",
              "      <th>vconst_corr</th>\n",
              "      <th>vconst_2</th>\n",
              "      <th>vconst_3</th>\n",
              "      <th>vconst_4</th>\n",
              "      <th>vconst_5</th>\n",
              "      <th>vconst_7</th>\n",
              "      <th>ah_corr</th>\n",
              "      <th>ah_bolus</th>\n",
              "      <th>...</th>\n",
              "      <th>efficiency_factor</th>\n",
              "      <th>tidal_mix_max</th>\n",
              "      <th>vertical_decay_scale</th>\n",
              "      <th>convect_corr</th>\n",
              "      <th>bckgrnd_vdc1</th>\n",
              "      <th>bckgrnd_vdc_ban</th>\n",
              "      <th>bckgrnd_vdc_eq</th>\n",
              "      <th>bckgrnd_vdc_psim</th>\n",
              "      <th>Prandtl</th>\n",
              "      <th>outcome</th>\n",
              "    </tr>\n",
              "  </thead>\n",
              "  <tbody>\n",
              "    <tr>\n",
              "      <th>0</th>\n",
              "      <td>1</td>\n",
              "      <td>1</td>\n",
              "      <td>0.859036</td>\n",
              "      <td>0.927825</td>\n",
              "      <td>0.252866</td>\n",
              "      <td>0.298838</td>\n",
              "      <td>0.170521</td>\n",
              "      <td>0.735936</td>\n",
              "      <td>0.428325</td>\n",
              "      <td>0.567947</td>\n",
              "      <td>...</td>\n",
              "      <td>0.245675</td>\n",
              "      <td>0.104226</td>\n",
              "      <td>0.869091</td>\n",
              "      <td>0.997518</td>\n",
              "      <td>0.448620</td>\n",
              "      <td>0.307522</td>\n",
              "      <td>0.858310</td>\n",
              "      <td>0.796997</td>\n",
              "      <td>0.869893</td>\n",
              "      <td>0</td>\n",
              "    </tr>\n",
              "    <tr>\n",
              "      <th>1</th>\n",
              "      <td>1</td>\n",
              "      <td>2</td>\n",
              "      <td>0.606041</td>\n",
              "      <td>0.457728</td>\n",
              "      <td>0.359448</td>\n",
              "      <td>0.306957</td>\n",
              "      <td>0.843331</td>\n",
              "      <td>0.934851</td>\n",
              "      <td>0.444572</td>\n",
              "      <td>0.828015</td>\n",
              "      <td>...</td>\n",
              "      <td>0.616870</td>\n",
              "      <td>0.975786</td>\n",
              "      <td>0.914344</td>\n",
              "      <td>0.845247</td>\n",
              "      <td>0.864152</td>\n",
              "      <td>0.346713</td>\n",
              "      <td>0.356573</td>\n",
              "      <td>0.438447</td>\n",
              "      <td>0.512256</td>\n",
              "      <td>1</td>\n",
              "    </tr>\n",
              "    <tr>\n",
              "      <th>2</th>\n",
              "      <td>1</td>\n",
              "      <td>3</td>\n",
              "      <td>0.997600</td>\n",
              "      <td>0.373238</td>\n",
              "      <td>0.517399</td>\n",
              "      <td>0.504993</td>\n",
              "      <td>0.618903</td>\n",
              "      <td>0.605571</td>\n",
              "      <td>0.746225</td>\n",
              "      <td>0.195928</td>\n",
              "      <td>...</td>\n",
              "      <td>0.679355</td>\n",
              "      <td>0.803413</td>\n",
              "      <td>0.643995</td>\n",
              "      <td>0.718441</td>\n",
              "      <td>0.924775</td>\n",
              "      <td>0.315371</td>\n",
              "      <td>0.250642</td>\n",
              "      <td>0.285636</td>\n",
              "      <td>0.365858</td>\n",
              "      <td>1</td>\n",
              "    </tr>\n",
              "    <tr>\n",
              "      <th>3</th>\n",
              "      <td>1</td>\n",
              "      <td>4</td>\n",
              "      <td>0.783408</td>\n",
              "      <td>0.104055</td>\n",
              "      <td>0.197533</td>\n",
              "      <td>0.421837</td>\n",
              "      <td>0.742056</td>\n",
              "      <td>0.490828</td>\n",
              "      <td>0.005525</td>\n",
              "      <td>0.392123</td>\n",
              "      <td>...</td>\n",
              "      <td>0.471463</td>\n",
              "      <td>0.597879</td>\n",
              "      <td>0.761659</td>\n",
              "      <td>0.362751</td>\n",
              "      <td>0.912819</td>\n",
              "      <td>0.977971</td>\n",
              "      <td>0.845921</td>\n",
              "      <td>0.699431</td>\n",
              "      <td>0.475987</td>\n",
              "      <td>1</td>\n",
              "    </tr>\n",
              "    <tr>\n",
              "      <th>4</th>\n",
              "      <td>1</td>\n",
              "      <td>5</td>\n",
              "      <td>0.406250</td>\n",
              "      <td>0.513199</td>\n",
              "      <td>0.061812</td>\n",
              "      <td>0.635837</td>\n",
              "      <td>0.844798</td>\n",
              "      <td>0.441502</td>\n",
              "      <td>0.191926</td>\n",
              "      <td>0.487546</td>\n",
              "      <td>...</td>\n",
              "      <td>0.551543</td>\n",
              "      <td>0.743877</td>\n",
              "      <td>0.312349</td>\n",
              "      <td>0.650223</td>\n",
              "      <td>0.522261</td>\n",
              "      <td>0.043545</td>\n",
              "      <td>0.376660</td>\n",
              "      <td>0.280098</td>\n",
              "      <td>0.132283</td>\n",
              "      <td>1</td>\n",
              "    </tr>\n",
              "  </tbody>\n",
              "</table>\n",
              "<p>5 rows × 21 columns</p>\n",
              "</div>\n",
              "    <div class=\"colab-df-buttons\">\n",
              "\n",
              "  <div class=\"colab-df-container\">\n",
              "    <button class=\"colab-df-convert\" onclick=\"convertToInteractive('df-e2e3908f-9db8-4879-b47d-97c3f00528fa')\"\n",
              "            title=\"Convert this dataframe to an interactive table.\"\n",
              "            style=\"display:none;\">\n",
              "\n",
              "  <svg xmlns=\"http://www.w3.org/2000/svg\" height=\"24px\" viewBox=\"0 -960 960 960\">\n",
              "    <path d=\"M120-120v-720h720v720H120Zm60-500h600v-160H180v160Zm220 220h160v-160H400v160Zm0 220h160v-160H400v160ZM180-400h160v-160H180v160Zm440 0h160v-160H620v160ZM180-180h160v-160H180v160Zm440 0h160v-160H620v160Z\"/>\n",
              "  </svg>\n",
              "    </button>\n",
              "\n",
              "  <style>\n",
              "    .colab-df-container {\n",
              "      display:flex;\n",
              "      gap: 12px;\n",
              "    }\n",
              "\n",
              "    .colab-df-convert {\n",
              "      background-color: #E8F0FE;\n",
              "      border: none;\n",
              "      border-radius: 50%;\n",
              "      cursor: pointer;\n",
              "      display: none;\n",
              "      fill: #1967D2;\n",
              "      height: 32px;\n",
              "      padding: 0 0 0 0;\n",
              "      width: 32px;\n",
              "    }\n",
              "\n",
              "    .colab-df-convert:hover {\n",
              "      background-color: #E2EBFA;\n",
              "      box-shadow: 0px 1px 2px rgba(60, 64, 67, 0.3), 0px 1px 3px 1px rgba(60, 64, 67, 0.15);\n",
              "      fill: #174EA6;\n",
              "    }\n",
              "\n",
              "    .colab-df-buttons div {\n",
              "      margin-bottom: 4px;\n",
              "    }\n",
              "\n",
              "    [theme=dark] .colab-df-convert {\n",
              "      background-color: #3B4455;\n",
              "      fill: #D2E3FC;\n",
              "    }\n",
              "\n",
              "    [theme=dark] .colab-df-convert:hover {\n",
              "      background-color: #434B5C;\n",
              "      box-shadow: 0px 1px 3px 1px rgba(0, 0, 0, 0.15);\n",
              "      filter: drop-shadow(0px 1px 2px rgba(0, 0, 0, 0.3));\n",
              "      fill: #FFFFFF;\n",
              "    }\n",
              "  </style>\n",
              "\n",
              "    <script>\n",
              "      const buttonEl =\n",
              "        document.querySelector('#df-e2e3908f-9db8-4879-b47d-97c3f00528fa button.colab-df-convert');\n",
              "      buttonEl.style.display =\n",
              "        google.colab.kernel.accessAllowed ? 'block' : 'none';\n",
              "\n",
              "      async function convertToInteractive(key) {\n",
              "        const element = document.querySelector('#df-e2e3908f-9db8-4879-b47d-97c3f00528fa');\n",
              "        const dataTable =\n",
              "          await google.colab.kernel.invokeFunction('convertToInteractive',\n",
              "                                                    [key], {});\n",
              "        if (!dataTable) return;\n",
              "\n",
              "        const docLinkHtml = 'Like what you see? Visit the ' +\n",
              "          '<a target=\"_blank\" href=https://colab.research.google.com/notebooks/data_table.ipynb>data table notebook</a>'\n",
              "          + ' to learn more about interactive tables.';\n",
              "        element.innerHTML = '';\n",
              "        dataTable['output_type'] = 'display_data';\n",
              "        await google.colab.output.renderOutput(dataTable, element);\n",
              "        const docLink = document.createElement('div');\n",
              "        docLink.innerHTML = docLinkHtml;\n",
              "        element.appendChild(docLink);\n",
              "      }\n",
              "    </script>\n",
              "  </div>\n",
              "\n",
              "\n",
              "    <div id=\"df-7acb193c-19c3-4cef-a190-2f528a8c698c\">\n",
              "      <button class=\"colab-df-quickchart\" onclick=\"quickchart('df-7acb193c-19c3-4cef-a190-2f528a8c698c')\"\n",
              "                title=\"Suggest charts\"\n",
              "                style=\"display:none;\">\n",
              "\n",
              "<svg xmlns=\"http://www.w3.org/2000/svg\" height=\"24px\"viewBox=\"0 0 24 24\"\n",
              "     width=\"24px\">\n",
              "    <g>\n",
              "        <path d=\"M19 3H5c-1.1 0-2 .9-2 2v14c0 1.1.9 2 2 2h14c1.1 0 2-.9 2-2V5c0-1.1-.9-2-2-2zM9 17H7v-7h2v7zm4 0h-2V7h2v10zm4 0h-2v-4h2v4z\"/>\n",
              "    </g>\n",
              "</svg>\n",
              "      </button>\n",
              "\n",
              "<style>\n",
              "  .colab-df-quickchart {\n",
              "      --bg-color: #E8F0FE;\n",
              "      --fill-color: #1967D2;\n",
              "      --hover-bg-color: #E2EBFA;\n",
              "      --hover-fill-color: #174EA6;\n",
              "      --disabled-fill-color: #AAA;\n",
              "      --disabled-bg-color: #DDD;\n",
              "  }\n",
              "\n",
              "  [theme=dark] .colab-df-quickchart {\n",
              "      --bg-color: #3B4455;\n",
              "      --fill-color: #D2E3FC;\n",
              "      --hover-bg-color: #434B5C;\n",
              "      --hover-fill-color: #FFFFFF;\n",
              "      --disabled-bg-color: #3B4455;\n",
              "      --disabled-fill-color: #666;\n",
              "  }\n",
              "\n",
              "  .colab-df-quickchart {\n",
              "    background-color: var(--bg-color);\n",
              "    border: none;\n",
              "    border-radius: 50%;\n",
              "    cursor: pointer;\n",
              "    display: none;\n",
              "    fill: var(--fill-color);\n",
              "    height: 32px;\n",
              "    padding: 0;\n",
              "    width: 32px;\n",
              "  }\n",
              "\n",
              "  .colab-df-quickchart:hover {\n",
              "    background-color: var(--hover-bg-color);\n",
              "    box-shadow: 0 1px 2px rgba(60, 64, 67, 0.3), 0 1px 3px 1px rgba(60, 64, 67, 0.15);\n",
              "    fill: var(--button-hover-fill-color);\n",
              "  }\n",
              "\n",
              "  .colab-df-quickchart-complete:disabled,\n",
              "  .colab-df-quickchart-complete:disabled:hover {\n",
              "    background-color: var(--disabled-bg-color);\n",
              "    fill: var(--disabled-fill-color);\n",
              "    box-shadow: none;\n",
              "  }\n",
              "\n",
              "  .colab-df-spinner {\n",
              "    border: 2px solid var(--fill-color);\n",
              "    border-color: transparent;\n",
              "    border-bottom-color: var(--fill-color);\n",
              "    animation:\n",
              "      spin 1s steps(1) infinite;\n",
              "  }\n",
              "\n",
              "  @keyframes spin {\n",
              "    0% {\n",
              "      border-color: transparent;\n",
              "      border-bottom-color: var(--fill-color);\n",
              "      border-left-color: var(--fill-color);\n",
              "    }\n",
              "    20% {\n",
              "      border-color: transparent;\n",
              "      border-left-color: var(--fill-color);\n",
              "      border-top-color: var(--fill-color);\n",
              "    }\n",
              "    30% {\n",
              "      border-color: transparent;\n",
              "      border-left-color: var(--fill-color);\n",
              "      border-top-color: var(--fill-color);\n",
              "      border-right-color: var(--fill-color);\n",
              "    }\n",
              "    40% {\n",
              "      border-color: transparent;\n",
              "      border-right-color: var(--fill-color);\n",
              "      border-top-color: var(--fill-color);\n",
              "    }\n",
              "    60% {\n",
              "      border-color: transparent;\n",
              "      border-right-color: var(--fill-color);\n",
              "    }\n",
              "    80% {\n",
              "      border-color: transparent;\n",
              "      border-right-color: var(--fill-color);\n",
              "      border-bottom-color: var(--fill-color);\n",
              "    }\n",
              "    90% {\n",
              "      border-color: transparent;\n",
              "      border-bottom-color: var(--fill-color);\n",
              "    }\n",
              "  }\n",
              "</style>\n",
              "\n",
              "      <script>\n",
              "        async function quickchart(key) {\n",
              "          const quickchartButtonEl =\n",
              "            document.querySelector('#' + key + ' button');\n",
              "          quickchartButtonEl.disabled = true;  // To prevent multiple clicks.\n",
              "          quickchartButtonEl.classList.add('colab-df-spinner');\n",
              "          try {\n",
              "            const charts = await google.colab.kernel.invokeFunction(\n",
              "                'suggestCharts', [key], {});\n",
              "          } catch (error) {\n",
              "            console.error('Error during call to suggestCharts:', error);\n",
              "          }\n",
              "          quickchartButtonEl.classList.remove('colab-df-spinner');\n",
              "          quickchartButtonEl.classList.add('colab-df-quickchart-complete');\n",
              "        }\n",
              "        (() => {\n",
              "          let quickchartButtonEl =\n",
              "            document.querySelector('#df-7acb193c-19c3-4cef-a190-2f528a8c698c button');\n",
              "          quickchartButtonEl.style.display =\n",
              "            google.colab.kernel.accessAllowed ? 'block' : 'none';\n",
              "        })();\n",
              "      </script>\n",
              "    </div>\n",
              "\n",
              "    </div>\n",
              "  </div>\n"
            ],
            "application/vnd.google.colaboratory.intrinsic+json": {
              "type": "dataframe",
              "variable_name": "df"
            }
          },
          "metadata": {},
          "execution_count": 3
        }
      ]
    },
    {
      "cell_type": "markdown",
      "metadata": {
        "id": "XT31DWD-BBe1"
      },
      "source": [
        "#### Data preprocessing\n",
        "Perform data preprocessing such as normalization, standardization, label encoding etc.\n",
        "______________________________________________________________________________________\n",
        "Description:\n",
        "We begin by checking for missing values, encoding if necessary, and scaling the numerical features."
      ]
    },
    {
      "cell_type": "code",
      "execution_count": null,
      "metadata": {
        "id": "NTHl0bqOBBe1",
        "colab": {
          "base_uri": "https://localhost:8080/",
          "height": 743
        },
        "outputId": "98154324-fc24-4f76-d339-723f174ade41"
      },
      "outputs": [
        {
          "output_type": "execute_result",
          "data": {
            "text/plain": [
              "Study                   0\n",
              "Run                     0\n",
              "vconst_corr             0\n",
              "vconst_2                0\n",
              "vconst_3                0\n",
              "vconst_4                0\n",
              "vconst_5                0\n",
              "vconst_7                0\n",
              "ah_corr                 0\n",
              "ah_bolus                0\n",
              "slm_corr                0\n",
              "efficiency_factor       0\n",
              "tidal_mix_max           0\n",
              "vertical_decay_scale    0\n",
              "convect_corr            0\n",
              "bckgrnd_vdc1            0\n",
              "bckgrnd_vdc_ban         0\n",
              "bckgrnd_vdc_eq          0\n",
              "bckgrnd_vdc_psim        0\n",
              "Prandtl                 0\n",
              "outcome                 0\n",
              "dtype: int64"
            ],
            "text/html": [
              "<div>\n",
              "<style scoped>\n",
              "    .dataframe tbody tr th:only-of-type {\n",
              "        vertical-align: middle;\n",
              "    }\n",
              "\n",
              "    .dataframe tbody tr th {\n",
              "        vertical-align: top;\n",
              "    }\n",
              "\n",
              "    .dataframe thead th {\n",
              "        text-align: right;\n",
              "    }\n",
              "</style>\n",
              "<table border=\"1\" class=\"dataframe\">\n",
              "  <thead>\n",
              "    <tr style=\"text-align: right;\">\n",
              "      <th></th>\n",
              "      <th>0</th>\n",
              "    </tr>\n",
              "  </thead>\n",
              "  <tbody>\n",
              "    <tr>\n",
              "      <th>Study</th>\n",
              "      <td>0</td>\n",
              "    </tr>\n",
              "    <tr>\n",
              "      <th>Run</th>\n",
              "      <td>0</td>\n",
              "    </tr>\n",
              "    <tr>\n",
              "      <th>vconst_corr</th>\n",
              "      <td>0</td>\n",
              "    </tr>\n",
              "    <tr>\n",
              "      <th>vconst_2</th>\n",
              "      <td>0</td>\n",
              "    </tr>\n",
              "    <tr>\n",
              "      <th>vconst_3</th>\n",
              "      <td>0</td>\n",
              "    </tr>\n",
              "    <tr>\n",
              "      <th>vconst_4</th>\n",
              "      <td>0</td>\n",
              "    </tr>\n",
              "    <tr>\n",
              "      <th>vconst_5</th>\n",
              "      <td>0</td>\n",
              "    </tr>\n",
              "    <tr>\n",
              "      <th>vconst_7</th>\n",
              "      <td>0</td>\n",
              "    </tr>\n",
              "    <tr>\n",
              "      <th>ah_corr</th>\n",
              "      <td>0</td>\n",
              "    </tr>\n",
              "    <tr>\n",
              "      <th>ah_bolus</th>\n",
              "      <td>0</td>\n",
              "    </tr>\n",
              "    <tr>\n",
              "      <th>slm_corr</th>\n",
              "      <td>0</td>\n",
              "    </tr>\n",
              "    <tr>\n",
              "      <th>efficiency_factor</th>\n",
              "      <td>0</td>\n",
              "    </tr>\n",
              "    <tr>\n",
              "      <th>tidal_mix_max</th>\n",
              "      <td>0</td>\n",
              "    </tr>\n",
              "    <tr>\n",
              "      <th>vertical_decay_scale</th>\n",
              "      <td>0</td>\n",
              "    </tr>\n",
              "    <tr>\n",
              "      <th>convect_corr</th>\n",
              "      <td>0</td>\n",
              "    </tr>\n",
              "    <tr>\n",
              "      <th>bckgrnd_vdc1</th>\n",
              "      <td>0</td>\n",
              "    </tr>\n",
              "    <tr>\n",
              "      <th>bckgrnd_vdc_ban</th>\n",
              "      <td>0</td>\n",
              "    </tr>\n",
              "    <tr>\n",
              "      <th>bckgrnd_vdc_eq</th>\n",
              "      <td>0</td>\n",
              "    </tr>\n",
              "    <tr>\n",
              "      <th>bckgrnd_vdc_psim</th>\n",
              "      <td>0</td>\n",
              "    </tr>\n",
              "    <tr>\n",
              "      <th>Prandtl</th>\n",
              "      <td>0</td>\n",
              "    </tr>\n",
              "    <tr>\n",
              "      <th>outcome</th>\n",
              "      <td>0</td>\n",
              "    </tr>\n",
              "  </tbody>\n",
              "</table>\n",
              "</div><br><label><b>dtype:</b> int64</label>"
            ]
          },
          "metadata": {},
          "execution_count": 4
        }
      ],
      "source": [
        "# Check for missing values\n",
        "df.isnull().sum()"
      ]
    },
    {
      "cell_type": "code",
      "source": [
        "# Since all features are numerical, we impute missing values with the mean even though there is none\n",
        "df.fillna(df.mean(), inplace=True)"
      ],
      "metadata": {
        "id": "oE3katwg1LLn"
      },
      "execution_count": null,
      "outputs": []
    },
    {
      "cell_type": "code",
      "source": [
        "# Drop identifier columns if not useful for prediction\n",
        "df.drop(columns=['Study', 'Run'], inplace=True)"
      ],
      "metadata": {
        "id": "SwkHbXeH1RWN"
      },
      "execution_count": null,
      "outputs": []
    },
    {
      "cell_type": "code",
      "source": [
        "# Separate features and target\n",
        "X = df.drop(columns=['outcome'])\n",
        "y = df['outcome']\n",
        "\n",
        "# Scale features only\n",
        "scaler = StandardScaler()\n",
        "X_scaled = scaler.fit_transform(X)\n",
        "\n",
        "# Reconstruct DataFrame\n",
        "X = pd.DataFrame(X_scaled, columns=X.columns)"
      ],
      "metadata": {
        "id": "j9jHAESl1VnK"
      },
      "execution_count": null,
      "outputs": []
    },
    {
      "cell_type": "markdown",
      "metadata": {
        "id": "nk9DS2NVBBe0"
      },
      "source": [
        "#### Split the dataset\n",
        "Split the dataset into training, validation and test sets."
      ]
    },
    {
      "cell_type": "code",
      "source": [
        "# Features and target\n",
        "X = df.drop(columns=['outcome'])\n",
        "y = df['outcome']\n",
        "\n",
        "# First split: 60% train, 40% temp\n",
        "X_train, X_temp, y_train, y_temp = train_test_split(X, y, test_size=0.4, random_state=42, stratify=y)\n",
        "\n",
        "# Second split: 20% validation, 20% test\n",
        "X_val, X_test, y_val, y_test = train_test_split(X_temp, y_temp, test_size=0.5, random_state=42, stratify=y_temp)\n",
        "\n",
        "# Check distribution\n",
        "print(\"Train set:\", X_train.shape, y_train.value_counts(normalize=True).to_dict())\n",
        "print(\"Validation set:\", X_val.shape, y_val.value_counts(normalize=True).to_dict())\n",
        "print(\"Test set:\", X_test.shape, y_test.value_counts(normalize=True).to_dict())\n"
      ],
      "metadata": {
        "id": "4InfhvOVCnW8",
        "colab": {
          "base_uri": "https://localhost:8080/"
        },
        "outputId": "de1f9f99-c58f-4c42-aedd-9fbdb0cc9469"
      },
      "execution_count": null,
      "outputs": [
        {
          "output_type": "stream",
          "name": "stdout",
          "text": [
            "Train set: (324, 18) {1: 0.9135802469135802, 0: 0.08641975308641975}\n",
            "Validation set: (108, 18) {1: 0.9166666666666666, 0: 0.08333333333333333}\n",
            "Test set: (108, 18) {1: 0.9166666666666666, 0: 0.08333333333333333}\n"
          ]
        }
      ]
    },
    {
      "cell_type": "markdown",
      "metadata": {
        "id": "713kFkRWBBe2"
      },
      "source": [
        "#### Feature Selection\n",
        "Perform feature selection to select the relevant features.\n",
        "______________________________________________________________________________________\n",
        "Description: We use correlation heatmap and feature importance via ExtraTreesRegressor to identify the top predictors for the target."
      ]
    },
    {
      "cell_type": "code",
      "execution_count": null,
      "metadata": {
        "id": "9KXUtp9gBBe2",
        "colab": {
          "base_uri": "https://localhost:8080/",
          "height": 828
        },
        "outputId": "6c7ec42d-b57a-40aa-cadc-a06a0ad80dbe"
      },
      "outputs": [
        {
          "output_type": "display_data",
          "data": {
            "text/plain": [
              "<Figure size 1200x800 with 2 Axes>"
            ],
            "image/png": "[encoded data removed]"
          },
          "metadata": {}
        }
      ],
      "source": [
        "# Correlation heatmap\n",
        "\n",
        "plt.figure(figsize=(12, 8))\n",
        "sns.heatmap(df.corr(), cmap='coolwarm', annot=False)\n",
        "plt.title('Correlation Heatmap')\n",
        "plt.show()"
      ]
    },
    {
      "cell_type": "code",
      "source": [
        "# Separate features and target\n",
        "X = df.drop(columns=['outcome'])\n",
        "y = df['outcome']\n",
        "\n",
        "# Convert float-like binary values (e.g., 0.0 and 1.0) to integer class labels\n",
        "df['outcome'] = df['outcome'].astype(int)\n",
        "model = ExtraTreesClassifier()\n",
        "model.fit(X, y)\n",
        "\n",
        "# Get feature importances\n",
        "importances = pd.Series(model.feature_importances_, index=X.columns)\n",
        "\n",
        "# Top 10 features\n",
        "top_features = importances.sort_values(ascending=False).head(10)\n",
        "\n",
        "\n",
        "# Plot\n",
        "plt.figure(figsize=(10, 6))\n",
        "top_features.plot(kind='barh')\n",
        "plt.title('Top 10 Feature Importances')\n",
        "plt.gca().invert_yaxis()  # Highest importance on top\n",
        "plt.xlabel('Importance Score')\n",
        "plt.ylabel('Features')\n",
        "plt.tight_layout()\n",
        "plt.show()"
      ],
      "metadata": {
        "id": "e78NWR2J1h1_",
        "colab": {
          "base_uri": "https://localhost:8080/",
          "height": 607
        },
        "outputId": "b28ad83a-8440-4cd6-ae6d-2ca7deae0082"
      },
      "execution_count": null,
      "outputs": [
        {
          "output_type": "display_data",
          "data": {
            "text/plain": [
              "<Figure size 1000x600 with 1 Axes>"
            ],
            "image/png": "[encoded data removed]"
          },
          "metadata": {}
        }
      ]
    },
    {
      "cell_type": "markdown",
      "source": [
        "#### Justification of Selected Features\n",
        "\n",
        "We selected the top 10 features based on `ExtraTreesClassifier` importance scores. These features are most influential in predicting the `outcome` variable. Correlation analysis also helped avoid redundant features due to multicollinearity."
      ],
      "metadata": {
        "id": "miPWeiie2SAX"
      }
    },
    {
      "cell_type": "markdown",
      "metadata": {
        "id": "fc3quTD1BBe2"
      },
      "source": [
        "#### Data modeling\n",
        "Build the machine learning models. You must build atleast two (2) predictive models. One of the predictive models must be either Decision Tree or Support Vector Machine.\n",
        "______________________________________________________________________________________\n",
        "Description:<br> We have implemented and evaluated two classification predictive models which are Decision Tree Classification and K-Nearest Neighbors on the climate.csv dataset. <br>\n",
        "For each model, we first train the predictive models without any tuning and evaluate the classification metrics then, we tuned each model via 'GridSearchCV' class and evaluate the metrics again to find whether there is any improvements in the performance of the predictive models. We also visualized both tuned and untuned confusion metrics via 'ConfusionMatrixDisplay' class for each predictive models for better and clear understanding of the performance difference before and after fine tuning the models."
      ]
    },
    {
      "cell_type": "markdown",
      "source": [
        "####1st Model: Decision Tree Classification"
      ],
      "metadata": {
        "id": "X2pwf9ON6FD1"
      }
    },
    {
      "cell_type": "code",
      "source": [
        "# fit Decision Tree without any tuning\n",
        "clf = DecisionTreeClassifier().fit(X_train, y_train)\n",
        "\n",
        "# Predict on the test set\n",
        "y_pred = clf.predict(X_test)\n",
        "\n",
        "# Decision Tree Metrics Before Tuning\n",
        "print(\"****** Decision Tree Before Tuning ******\")\n",
        "print(\"\\nAccuracy:\", accuracy_score(y_test, y_pred))\n",
        "print(\"Precision:\", precision_score(y_test, y_pred))\n",
        "print(\"Recall:\", recall_score(y_test, y_pred))\n",
        "print(\"F1 Score:\", f1_score(y_test, y_pred))\n",
        "print(\"\\nConfusion Matrix:\\n\", confusion_matrix(y_test, y_pred))\n",
        "print(\"\\nClassification Report:\\n\", classification_report(y_test, y_pred))\n",
        "\n",
        "# Display Confusion Matrix\n",
        "cm = confusion_matrix(y_test, y_pred)\n",
        "cm_display = ConfusionMatrixDisplay(cm, display_labels=y.unique())\n",
        "cm_display.plot(values_format='d')\n",
        "plt.show()"
      ],
      "metadata": {
        "id": "WeSSIFT8B4Kc",
        "colab": {
          "base_uri": "https://localhost:8080/",
          "height": 816
        },
        "outputId": "af6f7149-c994-413a-e6b3-ea9f6883767e"
      },
      "execution_count": null,
      "outputs": [
        {
          "output_type": "stream",
          "name": "stdout",
          "text": [
            "****** Decision Tree Before Tuning ******\n",
            "\n",
            "Accuracy: 0.8703703703703703\n",
            "Precision: 0.9381443298969072\n",
            "Recall: 0.9191919191919192\n",
            "F1 Score: 0.9285714285714286\n",
            "\n",
            "Confusion Matrix:\n",
            " [[ 3  6]\n",
            " [ 8 91]]\n",
            "\n",
            "Classification Report:\n",
            "               precision    recall  f1-score   support\n",
            "\n",
            "           0       0.27      0.33      0.30         9\n",
            "           1       0.94      0.92      0.93        99\n",
            "\n",
            "    accuracy                           0.87       108\n",
            "   macro avg       0.61      0.63      0.61       108\n",
            "weighted avg       0.88      0.87      0.88       108\n",
            "\n"
          ]
        },
        {
          "output_type": "display_data",
          "data": {
            "text/plain": [
              "<Figure size 640x480 with 2 Axes>"
            ],
            "image/png": "[encoded data removed]"
          },
          "metadata": {}
        }
      ]
    },
    {
      "cell_type": "code",
      "source": [
        "# Decision Tree After Tuning\n",
        "\n",
        "param_grid = {\n",
        "    'max_depth': [3, 5, 10, None],\n",
        "    'min_samples_split': [2, 5, 10],\n",
        "    'min_samples_leaf': [1, 2, 4],\n",
        "}\n",
        "\n",
        "grid_search = GridSearchCV(\n",
        "    estimator=DecisionTreeClassifier(),\n",
        "    param_grid=param_grid)\n",
        "\n",
        "grid_search.fit(X_train, y_train)\n",
        "best_model = grid_search.best_estimator_\n",
        "y_pred_tuned = best_model.predict(X_test)\n",
        "\n",
        "# Decision Tree Metrics After Tuning\n",
        "print(\"****** Decision Tree After Tuning ******\")\n",
        "print(\"\\nBest Parameters:\", grid_search.best_params_)\n",
        "print(\"\\nAccuracy:\", accuracy_score(y_test, y_pred_tuned))\n",
        "print(\"Precision:\", precision_score(y_test, y_pred_tuned))\n",
        "print(\"Recall:\", recall_score(y_test, y_pred_tuned))\n",
        "print(\"F1 Score:\", f1_score(y_test, y_pred_tuned))\n",
        "print(\"\\nConfusion Matrix:\\n\", confusion_matrix(y_test, y_pred_tuned))\n",
        "print(\"\\nClassification Report:\\n\", classification_report(y_test, y_pred_tuned))\n",
        "\n",
        "# Display Confusion Matrix\n",
        "cm = confusion_matrix(y_test, y_pred_tuned)\n",
        "cm_display = ConfusionMatrixDisplay(cm, display_labels=y.unique())\n",
        "cm_display.plot(values_format='d')\n",
        "plt.show()"
      ],
      "metadata": {
        "id": "a101sDB_8L1x",
        "colab": {
          "base_uri": "https://localhost:8080/",
          "height": 848
        },
        "outputId": "1ef615d3-7b7e-4ff5-8212-96687754e6b7"
      },
      "execution_count": null,
      "outputs": [
        {
          "output_type": "stream",
          "name": "stdout",
          "text": [
            "****** Decision Tree After Tuning ******\n",
            "\n",
            "Best Parameters: {'max_depth': 3, 'min_samples_leaf': 1, 'min_samples_split': 5}\n",
            "\n",
            "Accuracy: 0.9074074074074074\n",
            "Precision: 0.9320388349514563\n",
            "Recall: 0.9696969696969697\n",
            "F1 Score: 0.9504950495049505\n",
            "\n",
            "Confusion Matrix:\n",
            " [[ 2  7]\n",
            " [ 3 96]]\n",
            "\n",
            "Classification Report:\n",
            "               precision    recall  f1-score   support\n",
            "\n",
            "           0       0.40      0.22      0.29         9\n",
            "           1       0.93      0.97      0.95        99\n",
            "\n",
            "    accuracy                           0.91       108\n",
            "   macro avg       0.67      0.60      0.62       108\n",
            "weighted avg       0.89      0.91      0.90       108\n",
            "\n"
          ]
        },
        {
          "output_type": "display_data",
          "data": {
            "text/plain": [
              "<Figure size 640x480 with 2 Axes>"
            ],
            "image/png": "[encoded data removed]"
          },
          "metadata": {}
        }
      ]
    },
    {
      "cell_type": "markdown",
      "source": [
        "####2nd Model: K-Nearest Neighbours Classification"
      ],
      "metadata": {
        "id": "jNpIAnNFFqwi"
      }
    },
    {
      "cell_type": "code",
      "source": [
        "from sklearn.neighbors import KNeighborsClassifier\n",
        "from sklearn.metrics import accuracy_score, precision_score, recall_score, f1_score, confusion_matrix, classification_report, ConfusionMatrixDisplay\n",
        "import matplotlib.pyplot as plt\n",
        "\n",
        "# Initialize and train KNN model\n",
        "knn_model = KNeighborsClassifier()\n",
        "knn_model.fit(X_train, y_train)\n",
        "\n",
        "# Make predictions\n",
        "y_pred = knn_model.predict(X_test)\n",
        "\n",
        "# Evaluate model\n",
        "print(\"****** K-Nearest Neighbors Before Tuning ******\")\n",
        "print(\"\\nAccuracy:\", accuracy_score(y_test, y_pred))\n",
        "print(\"Precision:\", precision_score(y_test, y_pred, average='binary', zero_division=0))\n",
        "print(\"Recall:\", recall_score(y_test, y_pred, average='binary', zero_division=0))\n",
        "print(\"F1 Score:\", f1_score(y_test, y_pred, average='binary', zero_division=0))\n",
        "print(\"\\nConfusion Matrix:\\n\", confusion_matrix(y_test, y_pred))\n",
        "print(\"\\nClassification Report:\\n\", classification_report(y_test, y_pred, zero_division=0))\n",
        "\n",
        "# Confusion matrix plot\n",
        "cm = confusion_matrix(y_test, y_pred)\n",
        "cm_display = ConfusionMatrixDisplay(cm, display_labels=y.unique())\n",
        "cm_display.plot(values_format='d')\n",
        "plt.show()\n"
      ],
      "metadata": {
        "colab": {
          "base_uri": "https://localhost:8080/",
          "height": 814
        },
        "id": "F_9fjKYwFv0q",
        "outputId": "bd0e853d-7eb8-46a8-ab68-03d06d3c930f"
      },
      "execution_count": null,
      "outputs": [
        {
          "output_type": "stream",
          "name": "stdout",
          "text": [
            "****** K-Nearest Neighbors Before Tuning ******\n",
            "\n",
            "Accuracy: 0.9166666666666666\n",
            "Precision: 0.9166666666666666\n",
            "Recall: 1.0\n",
            "F1 Score: 0.9565217391304348\n",
            "\n",
            "Confusion Matrix:\n",
            " [[ 0  9]\n",
            " [ 0 99]]\n",
            "\n",
            "Classification Report:\n",
            "               precision    recall  f1-score   support\n",
            "\n",
            "           0       0.00      0.00      0.00         9\n",
            "           1       0.92      1.00      0.96        99\n",
            "\n",
            "    accuracy                           0.92       108\n",
            "   macro avg       0.46      0.50      0.48       108\n",
            "weighted avg       0.84      0.92      0.88       108\n",
            "\n"
          ]
        },
        {
          "output_type": "display_data",
          "data": {
            "text/plain": [
              "<Figure size 640x480 with 2 Axes>"
            ],
            "image/png": "[encoded data removed]"
          },
          "metadata": {}
        }
      ]
    },
    {
      "cell_type": "code",
      "source": [
        "from sklearn.model_selection import GridSearchCV\n",
        "\n",
        "# Define hyperparameter grid\n",
        "param_grid = {\n",
        "    'n_neighbors': [3, 5, 7, 9, 11],\n",
        "    'weights': ['uniform', 'distance'],\n",
        "    'metric': ['euclidean', 'manhattan']\n",
        "}\n",
        "\n",
        "# Set up grid search\n",
        "grid_search = GridSearchCV(KNeighborsClassifier(), param_grid=param_grid, cv=5, scoring='f1', n_jobs=-1)\n",
        "grid_search.fit(X_train, y_train)\n",
        "\n",
        "# Best model\n",
        "best_model = grid_search.best_estimator_\n",
        "y_pred_tuned = best_model.predict(X_test)\n",
        "\n",
        "# Evaluate tuned model\n",
        "print(\"****** K-Nearest Neighbors After Tuning ******\")\n",
        "print(\"\\nBest Parameters:\", grid_search.best_params_)\n",
        "print(\"Accuracy:\", accuracy_score(y_test, y_pred_tuned))\n",
        "print(\"Precision:\", precision_score(y_test, y_pred_tuned, average='binary'))\n",
        "print(\"Recall:\", recall_score(y_test, y_pred_tuned, average='binary'))\n",
        "print(\"F1 Score:\", f1_score(y_test, y_pred_tuned, average='binary'))\n",
        "print(\"\\nConfusion Matrix:\\n\", confusion_matrix(y_test, y_pred_tuned))\n",
        "print(\"\\nClassification Report:\\n\", classification_report(y_test, y_pred_tuned))\n",
        "\n",
        "# Confusion matrix plot\n",
        "cm = confusion_matrix(y_test, y_pred_tuned)\n",
        "cm_display = ConfusionMatrixDisplay(cm, display_labels=y.unique())\n",
        "cm_display.plot(values_format='d')\n",
        "plt.show()\n"
      ],
      "metadata": {
        "id": "aX3jYzKtKiPg",
        "colab": {
          "base_uri": "https://localhost:8080/",
          "height": 831
        },
        "outputId": "0cbdad08-d7e2-4d22-9692-f3c15fb20f2c"
      },
      "execution_count": null,
      "outputs": [
        {
          "output_type": "stream",
          "name": "stdout",
          "text": [
            "****** K-Nearest Neighbors After Tuning ******\n",
            "\n",
            "Best Parameters: {'metric': 'euclidean', 'n_neighbors': 3, 'weights': 'uniform'}\n",
            "Accuracy: 0.8981481481481481\n",
            "Precision: 0.9150943396226415\n",
            "Recall: 0.9797979797979798\n",
            "F1 Score: 0.9463414634146341\n",
            "\n",
            "Confusion Matrix:\n",
            " [[ 0  9]\n",
            " [ 2 97]]\n",
            "\n",
            "Classification Report:\n",
            "               precision    recall  f1-score   support\n",
            "\n",
            "           0       0.00      0.00      0.00         9\n",
            "           1       0.92      0.98      0.95        99\n",
            "\n",
            "    accuracy                           0.90       108\n",
            "   macro avg       0.46      0.49      0.47       108\n",
            "weighted avg       0.84      0.90      0.87       108\n",
            "\n"
          ]
        },
        {
          "output_type": "display_data",
          "data": {
            "text/plain": [
              "<Figure size 640x480 with 2 Axes>"
            ],
            "image/png": "[encoded data removed]"
          },
          "metadata": {}
        }
      ]
    },
    {
      "cell_type": "markdown",
      "metadata": {
        "id": "yiCtG9nZBBe2"
      },
      "source": [
        "#### Evaluate the models\n",
        "Perform a comparison between the predictive models. <br>\n",
        "Report the accuracy, recall, precision and F1-score measures as well as the confusion matrix if it is a classification problem. <br>\n",
        " Report the R² score, mean squared error and mean absolute error if it is a regression problem.\n",
        "______________________________________________________________________________________\n",
        "Description:"
      ]
    },
    {
      "cell_type": "markdown",
      "source": [
        "## Comparison Between Predictive Models\n",
        "\n",
        "To identify the most effective predictive model for our problem, we trained and evaluated two models. The performance of each model was assessed using standard evaluation metrics.\n",
        "\n",
        "- For **Decision Tree classification**: Accuracy, Precision, Recall, F1-score, and Confusion Matrix.\n",
        "- For **K-Nearest Neighbours classification**: Accuracy, Precision, Recall, F1-score, and Confusion Matrix.\n",
        "\n",
        "We compare these metrics side-by-side to determine which model offers the best trade-off between performance and complexity."
      ],
      "metadata": {
        "id": "_9SKI2l36NRB"
      }
    },
    {
      "cell_type": "markdown",
      "source": [
        "####Decision Tree Classification\n",
        "--------------------------------"
      ],
      "metadata": {
        "id": "Znwq2TiF-0PK"
      }
    },
    {
      "cell_type": "code",
      "source": [
        "param_grid = {\n",
        "    'max_depth': [3, 5, 10, None],\n",
        "    'min_samples_split': [2, 5, 10],\n",
        "    'min_samples_leaf': [1, 2, 4],\n",
        "}\n",
        "\n",
        "grid_search = GridSearchCV(\n",
        "    estimator=DecisionTreeClassifier(),\n",
        "    param_grid=param_grid)\n",
        "\n",
        "grid_search.fit(X_train, y_train)\n",
        "best_model = grid_search.best_estimator_\n",
        "y_pred_tuned = best_model.predict(X_test)\n",
        "\n",
        "# Decision Tree Metrics After Tuning\n",
        "print(\"****** Decision Tree After Tuning ******\")\n",
        "print(\"\\nAccuracy:\", accuracy_score(y_test, y_pred_tuned))\n",
        "print(\"Precision:\", precision_score(y_test, y_pred_tuned))\n",
        "print(\"Recall:\", recall_score(y_test, y_pred_tuned))\n",
        "print(\"F1 Score:\", f1_score(y_test, y_pred_tuned))\n",
        "print(\"\\nConfusion Matrix:\\n\", confusion_matrix(y_test, y_pred_tuned))\n",
        "print(\"\\nClassification Report:\\n\", classification_report(y_test, y_pred_tuned))"
      ],
      "metadata": {
        "colab": {
          "base_uri": "https://localhost:8080/"
        },
        "id": "eFx_AF0r96cR",
        "outputId": "ff2e266a-20ac-4374-b391-a37ca199879d"
      },
      "execution_count": null,
      "outputs": [
        {
          "output_type": "stream",
          "name": "stdout",
          "text": [
            "****** Decision Tree After Tuning ******\n",
            "\n",
            "Accuracy: 0.9074074074074074\n",
            "Precision: 0.9320388349514563\n",
            "Recall: 0.9696969696969697\n",
            "F1 Score: 0.9504950495049505\n",
            "\n",
            "Confusion Matrix:\n",
            " [[ 2  7]\n",
            " [ 3 96]]\n",
            "\n",
            "Classification Report:\n",
            "               precision    recall  f1-score   support\n",
            "\n",
            "           0       0.40      0.22      0.29         9\n",
            "           1       0.93      0.97      0.95        99\n",
            "\n",
            "    accuracy                           0.91       108\n",
            "   macro avg       0.67      0.60      0.62       108\n",
            "weighted avg       0.89      0.91      0.90       108\n",
            "\n"
          ]
        }
      ]
    },
    {
      "cell_type": "markdown",
      "source": [
        "####K-Nearest Neighbor Classification\n",
        "------------------------------------"
      ],
      "metadata": {
        "id": "5JN4xWga_E_v"
      }
    },
    {
      "cell_type": "code",
      "source": [
        "from sklearn.model_selection import GridSearchCV\n",
        "\n",
        "# Define hyperparameter grid\n",
        "param_grid = {\n",
        "    'n_neighbors': [3, 5, 7, 9, 11],\n",
        "    'weights': ['uniform', 'distance'],\n",
        "    'metric': ['euclidean', 'manhattan']\n",
        "}\n",
        "\n",
        "# Set up grid search\n",
        "grid_search = GridSearchCV(KNeighborsClassifier(), param_grid=param_grid, cv=5, scoring='f1', n_jobs=-1)\n",
        "grid_search.fit(X_train, y_train)\n",
        "\n",
        "# Best model\n",
        "best_model = grid_search.best_estimator_\n",
        "y_pred_tuned = best_model.predict(X_test)\n",
        "\n",
        "# Evaluate tuned model\n",
        "print(\"****** K-Nearest Neighbors After Tuning ******\")\n",
        "print(\"Accuracy:\", accuracy_score(y_test, y_pred_tuned))\n",
        "print(\"Precision:\", precision_score(y_test, y_pred_tuned, average='binary'))\n",
        "print(\"Recall:\", recall_score(y_test, y_pred_tuned, average='binary'))\n",
        "print(\"F1 Score:\", f1_score(y_test, y_pred_tuned, average='binary'))\n",
        "print(\"\\nConfusion Matrix:\\n\", confusion_matrix(y_test, y_pred_tuned))\n",
        "print(\"\\nClassification Report:\\n\", classification_report(y_test, y_pred_tuned))"
      ],
      "metadata": {
        "colab": {
          "base_uri": "https://localhost:8080/"
        },
        "id": "eNcwxXS59uPw",
        "outputId": "b846888e-3555-461e-aab4-990f44a4efc9"
      },
      "execution_count": null,
      "outputs": [
        {
          "output_type": "stream",
          "name": "stdout",
          "text": [
            "****** K-Nearest Neighbors After Tuning ******\n",
            "Accuracy: 0.8981481481481481\n",
            "Precision: 0.9150943396226415\n",
            "Recall: 0.9797979797979798\n",
            "F1 Score: 0.9463414634146341\n",
            "\n",
            "Confusion Matrix:\n",
            " [[ 0  9]\n",
            " [ 2 97]]\n",
            "\n",
            "Classification Report:\n",
            "               precision    recall  f1-score   support\n",
            "\n",
            "           0       0.00      0.00      0.00         9\n",
            "           1       0.92      0.98      0.95        99\n",
            "\n",
            "    accuracy                           0.90       108\n",
            "   macro avg       0.46      0.49      0.47       108\n",
            "weighted avg       0.84      0.90      0.87       108\n",
            "\n"
          ]
        }
      ]
    },
    {
      "cell_type": "markdown",
      "source": [
        "####Model Analysis\n",
        "------------------------------------"
      ],
      "metadata": {
        "id": "3mjGGye0ANBe"
      }
    },
    {
      "cell_type": "code",
      "source": [
        "# Comparison table\n",
        "comparison_data = {\n",
        "    \"Metric\": [\n",
        "        \"Accuracy (Classification)\",\n",
        "        \"Precision (Classification)\",\n",
        "        \"Recall (Classification)\",\n",
        "        \"F1-Score (Classification)\"\n",
        "    ],\n",
        "    \"Decision Tree\": [\n",
        "        0.9074,\n",
        "        0.9321,\n",
        "        0.9697,\n",
        "        0.9505\n",
        "    ],\n",
        "    \"K-Nearest Neighbor\": [\n",
        "        0.8981,\n",
        "        0.9151,\n",
        "        0.9798,\n",
        "        0.9463\n",
        "    ]\n",
        "}\n",
        "\n",
        "# Convert to DataFrame and display\n",
        "comparison_df = pd.DataFrame(comparison_data)\n",
        "print(\"Model Comparison Table\\n\")\n",
        "print(comparison_df.to_string(index=False))"
      ],
      "metadata": {
        "colab": {
          "base_uri": "https://localhost:8080/"
        },
        "id": "cxJocAcCB4Mc",
        "outputId": "cd85a54a-930f-4715-e22a-2c089d441645"
      },
      "execution_count": null,
      "outputs": [
        {
          "output_type": "stream",
          "name": "stdout",
          "text": [
            "Model Comparison Table\n",
            "\n",
            "                    Metric  Decision Tree  K-Nearest Neighbor\n",
            " Accuracy (Classification)         0.9074              0.8981\n",
            "Precision (Classification)         0.9321              0.9151\n",
            "   Recall (Classification)         0.9697              0.9798\n",
            " F1-Score (Classification)         0.9505              0.9463\n"
          ]
        }
      ]
    },
    {
      "cell_type": "markdown",
      "source": [
        "##Decision Tree\n",
        "\n",
        "- Accuracy: 90.74% - Slightly better overall predictive performance\n",
        "\n",
        "- Precision: 93.20% - Better at minimizing false positives\n",
        "\n",
        "- Recall: 96.97% - Slightly lower recall than KNN but still excellent\n",
        "\n",
        "- F1-Score: 95.05% - Shows the best balance between precision and recall\n",
        "\n",
        "Advantages:\n",
        "\n",
        "- Best overall performance across all metrics\n",
        "\n",
        "- More precise predictions than KNN\n",
        "\n",
        "- Typically faster at prediction time\n",
        "\n",
        "Considerations:\n",
        "\n",
        "- Marginally lower recall than KNN\n",
        "\n",
        "- May be more prone to overfitting without proper tuning"
      ],
      "metadata": {
        "id": "daYg2nZwGjmQ"
      }
    },
    {
      "cell_type": "markdown",
      "source": [
        "##K-Nearest Neighbors (KNN)\n",
        "- Accuracy: 89.81% - Good performance, slightly below Decision Tree\n",
        "\n",
        "- Precision: 91.51% - More false positives than Decision Tree\n",
        "\n",
        "- Recall: 97.98% - Best among the two models at identifying positives\n",
        "\n",
        "- F1-Score: 94.63% - Strong, but slightly below Decision Tree\n",
        "\n",
        "Advantages:\n",
        "\n",
        "- Highest recall (best at finding all positive cases)\n",
        "\n",
        "- Simple implementation\n",
        "\n",
        "- No training phase required\n",
        "\n",
        "Considerations:\n",
        "\n",
        "- Computationally intensive with large datasets\n",
        "\n",
        "- Requires careful feature scaling\n",
        "\n",
        "- Slightly lower precision than Decision Tree"
      ],
      "metadata": {
        "id": "iRGyUMYkVgK5"
      }
    },
    {
      "cell_type": "markdown",
      "source": [
        "###Conclusion\n",
        "\n",
        "For most applications, the Decision Tree would be the preferred choice as it offers:\n",
        "\n",
        "- Better overall accuracy\n",
        "\n",
        "- Higher precision (fewer false positives)\n",
        "\n",
        "- Superior balanced performance (F1-Score)\n",
        "\n",
        "Consider KNN if:\n",
        "\n",
        "- Maximizing recall is top priority (identifying all positive cases is crucial)\n",
        "\n",
        "- Working with a small to medium-sized dataset\n",
        "\n",
        "- Can tolerate slightly more false positives"
      ],
      "metadata": {
        "id": "47stoOL_XNxP"
      }
    }
  ],
  "metadata": {
    "kernelspec": {
      "display_name": "Python 3 (ipykernel)",
      "language": "python",
      "name": "python3"
    },
    "language_info": {
      "codemirror_mode": {
        "name": "ipython",
        "version": 3
      },
      "file_extension": ".py",
      "mimetype": "text/x-python",
      "name": "python",
      "nbconvert_exporter": "python",
      "pygments_lexer": "ipython3",
      "version": "3.9.2"
    },
    "colab": {
      "provenance": []
    }
  },
  "nbformat": 4,
  "nbformat_minor": 0
}